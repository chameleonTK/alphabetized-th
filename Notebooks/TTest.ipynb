{
 "cells": [
  {
   "cell_type": "code",
   "execution_count": 6,
   "id": "a07a9977-307e-4166-9b77-3c8ac3e125a7",
   "metadata": {},
   "outputs": [],
   "source": [
    "results = {}\n",
    "with open(\"./results.txt\") as fin:\n",
    "    for line in fin:\n",
    "        cols = line.strip().split(\":\")\n",
    "        if len(cols) < 4:\n",
    "            continue\n",
    "        \n",
    "        exp = cols[0].strip()\n",
    "        dataset = cols[1].strip()\n",
    "        value = float(cols[3].strip())\n",
    "        \n",
    "        if dataset not in results:\n",
    "            results[dataset] = {\"alph\":[], \"base\":[]}\n",
    "            \n",
    "        if exp.startswith(\"Alphabetized\"):\n",
    "            results[dataset][\"alph\"].append(value)\n",
    "        else:\n",
    "            results[dataset][\"base\"].append(value)"
   ]
  },
  {
   "cell_type": "code",
   "execution_count": 16,
   "id": "f84eca0e-fdaf-4b15-b4f7-7f8e2f426faf",
   "metadata": {},
   "outputs": [
    {
     "name": "stdout",
     "output_type": "stream",
     "text": [
      "Dataset TH-WS353\n",
      "Mean[alph]: 0.1512 0.04717266157426354\n",
      "Mean[base]: 0.1528 0.04586785366681114\n",
      "Ttest_indResult(statistic=-0.1059978291587935, pvalue=0.9161421049301831)\n",
      "=================================\n",
      "Dataset TH-SemEval2017T2\n",
      "Mean[alph]: 0.2145 0.02788996235207212\n",
      "Mean[base]: 0.21760000000000002 0.022661420961625513\n",
      "Ttest_indResult(statistic=-0.3760189953803253, pvalue=0.7090812006657747)\n",
      "=================================\n",
      "Dataset TH-SimLex999\n",
      "Mean[alph]: 0.16219999999999998 0.018263625050903776\n",
      "Mean[base]: 0.1558 0.018901322705038397\n",
      "Ttest_indResult(statistic=1.0613883667382695, pvalue=0.2952206929671446)\n",
      "=================================\n",
      "Dataset TWS65\n",
      "Mean[alph]: 0.1736 0.05857678721131776\n",
      "Mean[base]: 0.1016 0.053733043837102694\n",
      "Ttest_indResult(statistic=3.948234956755916, pvalue=0.0003319706844577388)\n",
      "=================================\n"
     ]
    }
   ],
   "source": [
    "from scipy.stats import ttest_ind\n",
    "import numpy as np\n",
    "\n",
    "for dataset in results:\n",
    "    values = results[dataset]\n",
    "    \n",
    "    alph = values[\"alph\"] \n",
    "    base = values[\"base\"] \n",
    "    o = ttest_ind(alph, base, equal_var=False, random_state=42)\n",
    "    print(dataset)\n",
    "    print(\"Mean[alph]:\", np.mean(alph), np.std(alph))\n",
    "    print(\"Mean[base]:\", np.mean(base), np.std(base))\n",
    "    print(o)\n",
    "    \n",
    "    print(\"=================================\")"
   ]
  },
  {
   "cell_type": "markdown",
   "id": "81efc254-e392-488a-8096-e675de46cc13",
   "metadata": {},
   "source": [
    "The p-value is a probability that is calculated under the assumption that the null hypothesis is true.\n",
    "\n",
    "The probability measures how likely it is (if the null is true) to get data at least as unusual as what was observed.\n"
   ]
  },
  {
   "cell_type": "code",
   "execution_count": null,
   "id": "ccd826a1-bf5e-426e-bc76-4b919ddf1831",
   "metadata": {},
   "outputs": [],
   "source": []
  }
 ],
 "metadata": {
  "kernelspec": {
   "display_name": "Python 3 (ipykernel)",
   "language": "python",
   "name": "python3"
  },
  "language_info": {
   "codemirror_mode": {
    "name": "ipython",
    "version": 3
   },
   "file_extension": ".py",
   "mimetype": "text/x-python",
   "name": "python",
   "nbconvert_exporter": "python",
   "pygments_lexer": "ipython3",
   "version": "3.8.10"
  }
 },
 "nbformat": 4,
 "nbformat_minor": 5
}
